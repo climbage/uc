{
 "cells": [
  {
   "cell_type": "code",
   "execution_count": null,
   "id": "dfd56cfe-6f40-42f2-ac19-605b5e623b41",
   "metadata": {},
   "outputs": [],
   "source": [
    "import geoanalytics\n",
    "import geoanalytics.sql.functions as ST\n",
    "import geoanalytics.tracks.functions as TRK\n",
    "from geoanalytics.tools import *\n",
    "\n",
    "import pyspark.sql.functions as F\n",
    "from pyspark.sql import Window"
   ]
  },
  {
   "cell_type": "code",
   "execution_count": null,
   "id": "88411d92-22b8-4c5b-b352-ebfa713b1628",
   "metadata": {},
   "outputs": [],
   "source": [
    "output=None#\"C:/dev/demo/uc2025/sandbox/tucson_demo\""
   ]
  },
  {
   "cell_type": "code",
   "execution_count": null,
   "id": "d24963a5-8136-4eb9-a582-d2a92ad67f4b",
   "metadata": {},
   "outputs": [],
   "source": [
    "from esrimap import EsriJSMap, Renderers, Labels, Popups\n",
    "\n",
    "# Add display method to DataFrame for additional convenience\n",
    "from pyspark.sql import DataFrame\n",
    "DataFrame.display_layer = EsriJSMap.display_layer"
   ]
  },
  {
   "cell_type": "code",
   "execution_count": null,
   "id": "b98d2f23-1701-4b67-bdf2-0724904afcac",
   "metadata": {},
   "outputs": [],
   "source": [
    "points = spark.read.parquet(r\"C:\\dev\\demo\\uc2025\\sandbox\\routes_10000_i15_d50\")\\\n",
    "    .select(\"id\", \"index\", F.to_timestamp(\"DATE\").alias(\"date\"), ST.point(\"x1\", \"y1\", 3857).alias(\"geometry\"))\\\n",
    "    .persist()\n",
    "points.show(5, truncate=False)\n",
    "print(\"Point Count: \" + str(points.count()))"
   ]
  },
  {
   "cell_type": "markdown",
   "id": "261c04aa-321f-4718-8cda-9eaea70c1bef",
   "metadata": {},
   "source": [
    "# Load streets data generated from OSM data\n",
    "\n",
    "Example: https://community.esri.com/t5/geoanalytics-engine-blog/enhancing-a-network-dataset-to-include-from-and-to/ba-p/1372018"
   ]
  },
  {
   "cell_type": "code",
   "execution_count": null,
   "id": "13fc9118-09cb-4db2-8f32-88ffee6e2d36",
   "metadata": {},
   "outputs": [],
   "source": [
    "streets = spark.read.format(\"shapefile\").load(r\"C:/dev/demo/uc2025/sandbox/Tucson1000Int15Dev300/streets\")\\\n",
    "  .select(\"id\", \"from_node\", \"to_node\", \"direction\", \"geometry\")\n",
    "streets.printSchema()"
   ]
  },
  {
   "cell_type": "markdown",
   "id": "bc593ef4-75d6-42f2-a4d9-3de0dc823b11",
   "metadata": {},
   "source": [
    "# Draw streets and points\n",
    "\n",
    "* Note the connectivity fields on the streets layer"
   ]
  },
  {
   "cell_type": "code",
   "execution_count": null,
   "id": "f65c542a-a87e-4ce5-ba33-0615d939d1c2",
   "metadata": {},
   "outputs": [],
   "source": [
    "map = EsriJSMap(basemap=\"streets-navigation-vector\")\n",
    "map.add_layer(streets, color=\"black\", width=1, popup=[\"id\", \"from_node\", \"to_node\", \"direction\"])\n",
    "map.add_layer(points, color=\"red\", size=\"4\")\n",
    "map.display()"
   ]
  },
  {
   "cell_type": "code",
   "execution_count": null,
   "id": "953a7830-f58b-4bbe-9451-89ff64f68bdc",
   "metadata": {},
   "outputs": [],
   "source": [
    "sample_filter = \"id < 5\"\n",
    "sample_points = points.where(sample_filter)\n",
    "\n",
    "#sample_points.display_layer(basemap=\"streets-navigation-vector\", color=\"red\", size=5, label=\"index\")\n",
    "sample_points.count()"
   ]
  },
  {
   "cell_type": "code",
   "execution_count": null,
   "id": "e79de3fa-cfde-43df-946e-bd5ad8a9f854",
   "metadata": {},
   "outputs": [],
   "source": [
    "snapper = SnapTracks()\\\n",
    "  .setTrackFields(\"id\")\\\n",
    "  .setSearchDistance(70, \"meters\")\\\n",
    "  .setDistanceMethod(\"planar\")\\\n",
    "  .setConnectivityFields(\"from_node\", \"to_node\")\\\n",
    "  .setDirectionFieldMatching(\"direction\", forward_value=\"FT\", backward_value=\"TF\", none_value=\"N\")\n",
    "\n",
    "snapped_points = snapper.run(sample_points, streets)\\\n",
    "  .persist()\n",
    "\n",
    "map = EsriJSMap(basemap=\"gray-vector\") \n",
    "map.add_layer(streets.where(ST.bbox_intersects(\"geometry\", *snapped_points.st.get_extent())), color=\"black\", width=1, popup=[\"from_node\", \"to_node\", \"direction\"])\n",
    "map.add_layer(snapped_points.select(ST.linestring(F.array(\"geometry\", \"match_geometry\")).alias(\"geom\")), color=\"red\", width=2)\n",
    "map.add_layer(snapped_points.select(\"match_geometry\"), color=\"red\", size=6)\n",
    "map.display()"
   ]
  },
  {
   "cell_type": "code",
   "execution_count": null,
   "id": "0bdfb278-a9ac-47fa-b9f8-7ec3498ba02f",
   "metadata": {},
   "outputs": [],
   "source": [
    "end_points = sample_points.groupBy(\"id\").agg(\n",
    "    F.min_by(\"geometry\", \"date\").alias(\"start_point\"),\n",
    "    F.max_by(\"geometry\", \"date\").alias(\"end_point\")\n",
    ")"
   ]
  },
  {
   "cell_type": "code",
   "execution_count": null,
   "id": "db5c25bc-3ad2-4203-b61f-d6da3f637307",
   "metadata": {},
   "outputs": [],
   "source": [
    "expected_routes = CreateRoutes()\\\n",
    "  .setTravelMode(\"Driving Time\")\\\n",
    "  .setNetwork(\"C:/dev/smp/Arizona.mmpk\")\\\n",
    "  .setStops(\"start_point\", \"end_point\")\\\n",
    "  .run(end_points)\n",
    "\n",
    "map = EsriJSMap(basemap=\"streets-navigation-vector\")\n",
    "map.add_layer(expected_routes.select(\"route_geometry\"), color=\"blue\", width=2)\n",
    "map.add_layer(snapped_points.select(\"match_geometry\"), color=\"red\", size=6)\n",
    "map.display()"
   ]
  },
  {
   "cell_type": "code",
   "execution_count": null,
   "id": "35dd2c52-513f-4503-8462-46fc1d37d875",
   "metadata": {},
   "outputs": [],
   "source": [
    "distance_from_expected = snapped_points.join(expected_routes, \"id\")\\\n",
    "  .withColumn(\"dist_from_route\", ST.distance(\"route_geometry\", \"match_geometry\"))\\\n",
    "  .select(*snapped_points.columns, \"dist_from_route\")\\\n",
    "  .withColumn(\"on_route\", F.col(\"dist_from_route\") < 300)\\\n",
    "  .groupBy(\"id\").agg(\n",
    "    F.count_if(\"on_route\").alias(\"num_on_route\"),\n",
    "    F.count_if(F.expr(\"not on_route\")).alias(\"num_off_route\"),\n",
    "  )\\\n",
    "  .withColumn(\"percent_on_route\", F.expr(\"(num_on_route / (num_on_route + num_off_route)) * 100\"))\n",
    "\n",
    "distance_from_expected.show()"
   ]
  },
  {
   "cell_type": "code",
   "execution_count": null,
   "id": "ac4e4bdd-6547-46ef-a0ce-aebdd4cb59b3",
   "metadata": {},
   "outputs": [],
   "source": [
    "reverse_geocode = ReverseGeocode()\\\n",
    "  .setLocator(r\"C:\\dev\\smp\\Arizona.mmpk\")\\\n",
    "  .setFeatureTypes(\"streetaddress\", \"streetname\")\\\n",
    "  .setOutFields(\"all\")\\\n",
    "  .run(snapped_points.drop(\"geometry\"))\\\n",
    "  .select(\"id\", \"date\", \"match_geometry\", \"LongLabel\", \"ShortLabel\", \"Subregion\", \"Region\", \"Neighborhood\", \"Postal\", \"PostalExt\")\\\n",
    "  .persist()\n",
    "  \n",
    "reverse_geocode.select(\"LongLabel\", \"ShortLabel\", \"Subregion\", \"Region\", \"Neighborhood\", \"Postal\", \"PostalExt\").show(5)\n",
    "\n",
    "reverse_geocode.display_layer(label=\"Postal\", popup=[\"LongLabel\", \"ShortLabel\", \"Subregion\", \"Region\", \"Neighborhood\", \"Postal\", \"PostalExt\"])"
   ]
  },
  {
   "cell_type": "code",
   "execution_count": null,
   "id": "416545ae-7d85-4b7a-8671-b41f3dad92bf",
   "metadata": {},
   "outputs": [],
   "source": [
    "window = Window.partitionBy(\"id\").orderBy(\"date\")\n",
    "segments = reverse_geocode.withColumn(\"next_date\", F.lead(\"date\").over(window))\\\n",
    "                          .withColumn(\"next_location\", F.lead(\"match_geometry\").over(window))\\\n",
    "                          .withColumn(\"duration\", F.col(\"next_date\").cast(\"long\") - F.col(\"date\").cast(\"long\"))\\\n",
    "                          .withColumn(\"length\", ST.distance(\"next_location\", \"match_geometry\"))\\\n",
    "                          .persist()\n",
    "\n",
    "segments.show(2, vertical=True, truncate=False)\n",
    "\n",
    "if output:\n",
    "    segments.repartition(1).write.format(\"geoparquet\").save(f\"{output}/segments\")"
   ]
  },
  {
   "cell_type": "code",
   "execution_count": null,
   "id": "2e174c03-ac88-47d3-be53-9db1bda6618d",
   "metadata": {},
   "outputs": [],
   "source": [
    "segments.groupBy(\"postal\").agg(\n",
    "    F.count(\"*\").alias(\"count\"),\n",
    "    F.sum(\"duration\").alias(\"total_duration_seconds\"),\n",
    "    F.sum(\"length\").alias(\"total_length_meters\")\n",
    ").orderBy(F.desc(\"count\")).show()"
   ]
  }
 ],
 "metadata": {
  "kernelspec": {
   "display_name": "Python 3 (ipykernel)",
   "language": "python",
   "name": "python3"
  },
  "language_info": {
   "codemirror_mode": {
    "name": "ipython",
    "version": 3
   },
   "file_extension": ".py",
   "mimetype": "text/x-python",
   "name": "python",
   "nbconvert_exporter": "python",
   "pygments_lexer": "ipython3",
   "version": "3.11.7"
  }
 },
 "nbformat": 4,
 "nbformat_minor": 5
}
